{
 "cells": [
  {
   "cell_type": "markdown",
   "id": "c7220b13",
   "metadata": {
    "papermill": {
     "duration": 0.010575,
     "end_time": "2022-05-28T21:31:09.869321",
     "exception": false,
     "start_time": "2022-05-28T21:31:09.858746",
     "status": "completed"
    },
    "tags": []
   },
   "source": [
    "# Table Of Contents\n",
    "1. [Visualize the Data](#1)\n",
    "1. [Trip Duration](#2)\n",
    "    1. [Described](#3)\n",
    "    1. [Longest Trips in Hours - Bar Plot](#4)\n",
    "    1. [Shortest Trips in Seconds - Bar Plot](#5)\n",
    "1. [User Type](#6)\n",
    "    1. [Described](#7)\n",
    "    1. [User Type - Pie Chart](#8)\n",
    "1. [Gender](#9)\n",
    "    1. [Described](#10)\n",
    "    1. [Gender - Pie Chart](#11)\n",
    "1. [Bike ID](#12)\n",
    "    1. [The most used bike](#13)\n",
    "1. [Stations](#14)\n",
    "    1. [The longest Trip starting and ending stations](#15)\n",
    "    1. [The station with most starts](#16)\n",
    "1. [Mixed Analytics](#17)\n",
    "    1. [Gender slicing based on User Type](#18)\n",
    "    1. [The age of most riders and their gender](#19)\n",
    "    "
   ]
  },
  {
   "cell_type": "markdown",
   "id": "b25c3c95",
   "metadata": {
    "id": "fPKJCiQvs3QM",
    "papermill": {
     "duration": 0.008955,
     "end_time": "2022-05-28T21:31:09.887945",
     "exception": false,
     "start_time": "2022-05-28T21:31:09.878990",
     "status": "completed"
    },
    "tags": []
   },
   "source": [
    "# 1. Visualize the Data\n",
    "<a id=\"1\"></a>"
   ]
  },
  {
   "cell_type": "code",
   "execution_count": 1,
   "id": "72e22762",
   "metadata": {
    "execution": {
     "iopub.execute_input": "2022-05-28T21:31:09.910101Z",
     "iopub.status.busy": "2022-05-28T21:31:09.908909Z",
     "iopub.status.idle": "2022-05-28T21:31:11.142838Z",
     "shell.execute_reply": "2022-05-28T21:31:11.141857Z"
    },
    "id": "lWCgvKQjSS3q",
    "papermill": {
     "duration": 1.248119,
     "end_time": "2022-05-28T21:31:11.145447",
     "exception": false,
     "start_time": "2022-05-28T21:31:09.897328",
     "status": "completed"
    },
    "tags": []
   },
   "outputs": [],
   "source": [
    "import pandas as pd\n",
    "import numpy as np\n",
    "import seaborn as sns\n",
    "import matplotlib.pyplot as plt\n",
    "from numpy.ma.core import arctan2\n",
    "from datetime import date"
   ]
  },
  {
   "cell_type": "markdown",
   "id": "bc1431b1",
   "metadata": {
    "id": "mw8Ouiwg_Mw-",
    "papermill": {
     "duration": 0.009131,
     "end_time": "2022-05-28T21:31:11.164325",
     "exception": false,
     "start_time": "2022-05-28T21:31:11.155194",
     "status": "completed"
    },
    "tags": []
   },
   "source": [
    "Distance calculation function between two points using lat/lon"
   ]
  },
  {
   "cell_type": "code",
   "execution_count": 2,
   "id": "595e9865",
   "metadata": {
    "execution": {
     "iopub.execute_input": "2022-05-28T21:31:11.185724Z",
     "iopub.status.busy": "2022-05-28T21:31:11.185294Z",
     "iopub.status.idle": "2022-05-28T21:31:11.193213Z",
     "shell.execute_reply": "2022-05-28T21:31:11.192150Z"
    },
    "id": "8Y2HvTMg5EyS",
    "papermill": {
     "duration": 0.021461,
     "end_time": "2022-05-28T21:31:11.195463",
     "exception": false,
     "start_time": "2022-05-28T21:31:11.174002",
     "status": "completed"
    },
    "tags": []
   },
   "outputs": [],
   "source": [
    "def distance(start_lat,start_lon,end_lat,end_lon):\n",
    "  R = 6378.137 # earth circimference\n",
    "  dLat = end_lat*np.pi/180 - start_lat*np.pi/180\n",
    "  dLon = end_lon*np.pi/180 - start_lon*np.pi/180\n",
    "  a = np.sin(dLat/2) * np.sin(dLat/2) + np.cos(start_lat*np.pi/180)*np.cos(end_lat*np.pi/180)*np.sin(dLon/2)*np.sin(dLon/2)\n",
    "  c = 2*np.arctan2(np.sqrt(a),np.sqrt(1-a))\n",
    "  return (R * c) * 1000"
   ]
  },
  {
   "cell_type": "code",
   "execution_count": 3,
   "id": "5beeb1ed",
   "metadata": {
    "execution": {
     "iopub.execute_input": "2022-05-28T21:31:11.217712Z",
     "iopub.status.busy": "2022-05-28T21:31:11.217107Z",
     "iopub.status.idle": "2022-05-28T21:31:21.538145Z",
     "shell.execute_reply": "2022-05-28T21:31:21.537066Z"
    },
    "id": "-S3cKaynSknt",
    "outputId": "15311b14-e7ca-4071-c760-48f0ace19f41",
    "papermill": {
     "duration": 10.335641,
     "end_time": "2022-05-28T21:31:21.541020",
     "exception": false,
     "start_time": "2022-05-28T21:31:11.205379",
     "status": "completed"
    },
    "tags": []
   },
   "outputs": [
    {
     "data": {
      "text/html": [
       "<div>\n",
       "<style scoped>\n",
       "    .dataframe tbody tr th:only-of-type {\n",
       "        vertical-align: middle;\n",
       "    }\n",
       "\n",
       "    .dataframe tbody tr th {\n",
       "        vertical-align: top;\n",
       "    }\n",
       "\n",
       "    .dataframe thead th {\n",
       "        text-align: right;\n",
       "    }\n",
       "</style>\n",
       "<table border=\"1\" class=\"dataframe\">\n",
       "  <thead>\n",
       "    <tr style=\"text-align: right;\">\n",
       "      <th></th>\n",
       "      <th>tripduration</th>\n",
       "      <th>starttime</th>\n",
       "      <th>stoptime</th>\n",
       "      <th>start station id</th>\n",
       "      <th>start station name</th>\n",
       "      <th>start station latitude</th>\n",
       "      <th>start station longitude</th>\n",
       "      <th>end station id</th>\n",
       "      <th>end station name</th>\n",
       "      <th>end station latitude</th>\n",
       "      <th>end station longitude</th>\n",
       "      <th>bikeid</th>\n",
       "      <th>usertype</th>\n",
       "      <th>birth year</th>\n",
       "      <th>gender</th>\n",
       "    </tr>\n",
       "  </thead>\n",
       "  <tbody>\n",
       "    <tr>\n",
       "      <th>0</th>\n",
       "      <td>1635</td>\n",
       "      <td>2018-09-01 00:00:05.2690</td>\n",
       "      <td>2018-09-01 00:27:20.6340</td>\n",
       "      <td>252.0</td>\n",
       "      <td>MacDougal St &amp; Washington Sq</td>\n",
       "      <td>40.732264</td>\n",
       "      <td>-73.998522</td>\n",
       "      <td>366.0</td>\n",
       "      <td>Clinton Ave &amp; Myrtle Ave</td>\n",
       "      <td>40.693261</td>\n",
       "      <td>-73.968896</td>\n",
       "      <td>25577</td>\n",
       "      <td>Subscriber</td>\n",
       "      <td>1980</td>\n",
       "      <td>1</td>\n",
       "    </tr>\n",
       "    <tr>\n",
       "      <th>1</th>\n",
       "      <td>132</td>\n",
       "      <td>2018-09-01 00:00:11.2810</td>\n",
       "      <td>2018-09-01 00:02:23.4810</td>\n",
       "      <td>314.0</td>\n",
       "      <td>Cadman Plaza West &amp; Montague St</td>\n",
       "      <td>40.693830</td>\n",
       "      <td>-73.990539</td>\n",
       "      <td>3242.0</td>\n",
       "      <td>Schermerhorn St &amp; Court St</td>\n",
       "      <td>40.691029</td>\n",
       "      <td>-73.991834</td>\n",
       "      <td>34377</td>\n",
       "      <td>Subscriber</td>\n",
       "      <td>1969</td>\n",
       "      <td>0</td>\n",
       "    </tr>\n",
       "    <tr>\n",
       "      <th>2</th>\n",
       "      <td>3337</td>\n",
       "      <td>2018-09-01 00:00:20.6490</td>\n",
       "      <td>2018-09-01 00:55:58.5470</td>\n",
       "      <td>3142.0</td>\n",
       "      <td>1 Ave &amp; E 62 St</td>\n",
       "      <td>40.761227</td>\n",
       "      <td>-73.960940</td>\n",
       "      <td>3384.0</td>\n",
       "      <td>Smith St &amp; 3 St</td>\n",
       "      <td>40.678724</td>\n",
       "      <td>-73.995991</td>\n",
       "      <td>30496</td>\n",
       "      <td>Subscriber</td>\n",
       "      <td>1975</td>\n",
       "      <td>1</td>\n",
       "    </tr>\n",
       "    <tr>\n",
       "      <th>3</th>\n",
       "      <td>436</td>\n",
       "      <td>2018-09-01 00:00:21.7460</td>\n",
       "      <td>2018-09-01 00:07:38.5830</td>\n",
       "      <td>308.0</td>\n",
       "      <td>St James Pl &amp; Oliver St</td>\n",
       "      <td>40.713079</td>\n",
       "      <td>-73.998512</td>\n",
       "      <td>3690.0</td>\n",
       "      <td>Park Pl &amp; Church St</td>\n",
       "      <td>40.713342</td>\n",
       "      <td>-74.009355</td>\n",
       "      <td>28866</td>\n",
       "      <td>Subscriber</td>\n",
       "      <td>1984</td>\n",
       "      <td>2</td>\n",
       "    </tr>\n",
       "    <tr>\n",
       "      <th>4</th>\n",
       "      <td>8457</td>\n",
       "      <td>2018-09-01 00:00:27.3150</td>\n",
       "      <td>2018-09-01 02:21:25.3080</td>\n",
       "      <td>345.0</td>\n",
       "      <td>W 13 St &amp; 6 Ave</td>\n",
       "      <td>40.736494</td>\n",
       "      <td>-73.997044</td>\n",
       "      <td>380.0</td>\n",
       "      <td>W 4 St &amp; 7 Ave S</td>\n",
       "      <td>40.734011</td>\n",
       "      <td>-74.002939</td>\n",
       "      <td>20943</td>\n",
       "      <td>Customer</td>\n",
       "      <td>1994</td>\n",
       "      <td>1</td>\n",
       "    </tr>\n",
       "  </tbody>\n",
       "</table>\n",
       "</div>"
      ],
      "text/plain": [
       "   tripduration                 starttime                  stoptime  \\\n",
       "0          1635  2018-09-01 00:00:05.2690  2018-09-01 00:27:20.6340   \n",
       "1           132  2018-09-01 00:00:11.2810  2018-09-01 00:02:23.4810   \n",
       "2          3337  2018-09-01 00:00:20.6490  2018-09-01 00:55:58.5470   \n",
       "3           436  2018-09-01 00:00:21.7460  2018-09-01 00:07:38.5830   \n",
       "4          8457  2018-09-01 00:00:27.3150  2018-09-01 02:21:25.3080   \n",
       "\n",
       "   start station id               start station name  start station latitude  \\\n",
       "0             252.0     MacDougal St & Washington Sq               40.732264   \n",
       "1             314.0  Cadman Plaza West & Montague St               40.693830   \n",
       "2            3142.0                  1 Ave & E 62 St               40.761227   \n",
       "3             308.0          St James Pl & Oliver St               40.713079   \n",
       "4             345.0                  W 13 St & 6 Ave               40.736494   \n",
       "\n",
       "   start station longitude  end station id            end station name  \\\n",
       "0               -73.998522           366.0    Clinton Ave & Myrtle Ave   \n",
       "1               -73.990539          3242.0  Schermerhorn St & Court St   \n",
       "2               -73.960940          3384.0             Smith St & 3 St   \n",
       "3               -73.998512          3690.0         Park Pl & Church St   \n",
       "4               -73.997044           380.0            W 4 St & 7 Ave S   \n",
       "\n",
       "   end station latitude  end station longitude  bikeid    usertype  \\\n",
       "0             40.693261             -73.968896   25577  Subscriber   \n",
       "1             40.691029             -73.991834   34377  Subscriber   \n",
       "2             40.678724             -73.995991   30496  Subscriber   \n",
       "3             40.713342             -74.009355   28866  Subscriber   \n",
       "4             40.734011             -74.002939   20943    Customer   \n",
       "\n",
       "   birth year  gender  \n",
       "0        1980       1  \n",
       "1        1969       0  \n",
       "2        1975       1  \n",
       "3        1984       2  \n",
       "4        1994       1  "
      ]
     },
     "execution_count": 3,
     "metadata": {},
     "output_type": "execute_result"
    }
   ],
   "source": [
    "df = pd.read_csv('../input/201809citibiketripdatacsv/201809-citibike-tripdata.csv')\n",
    "df.head()"
   ]
  },
  {
   "cell_type": "markdown",
   "id": "ab044749",
   "metadata": {
    "id": "uuk0Wj9uhsw3",
    "papermill": {
     "duration": 0.009706,
     "end_time": "2022-05-28T21:31:21.561017",
     "exception": false,
     "start_time": "2022-05-28T21:31:21.551311",
     "status": "completed"
    },
    "tags": []
   },
   "source": [
    "# 2. Trip Duration\n",
    "<a id=\"2\"></a>"
   ]
  },
  {
   "cell_type": "markdown",
   "id": "d9a715cc",
   "metadata": {
    "id": "oIr3n9uU2Iwj",
    "papermill": {
     "duration": 0.009579,
     "end_time": "2022-05-28T21:31:21.580828",
     "exception": false,
     "start_time": "2022-05-28T21:31:21.571249",
     "status": "completed"
    },
    "tags": []
   },
   "source": [
    "## 2.A. Trip Duration - Described\n",
    "<a id=\"3\"></a>"
   ]
  },
  {
   "cell_type": "code",
   "execution_count": 4,
   "id": "48830c11",
   "metadata": {
    "execution": {
     "iopub.execute_input": "2022-05-28T21:31:21.602428Z",
     "iopub.status.busy": "2022-05-28T21:31:21.602020Z",
     "iopub.status.idle": "2022-05-28T21:31:21.694443Z",
     "shell.execute_reply": "2022-05-28T21:31:21.693522Z"
    },
    "id": "0kRhQzwmf_Rt",
    "outputId": "d7236b17-2809-4337-90ee-81dc1d74de20",
    "papermill": {
     "duration": 0.10597,
     "end_time": "2022-05-28T21:31:21.696705",
     "exception": false,
     "start_time": "2022-05-28T21:31:21.590735",
     "status": "completed"
    },
    "tags": []
   },
   "outputs": [
    {
     "data": {
      "text/plain": [
       "count    1.877884e+06\n",
       "mean     9.675149e+02\n",
       "std      7.893692e+03\n",
       "min      6.100000e+01\n",
       "25%      3.750000e+02\n",
       "50%      6.400000e+02\n",
       "75%      1.129000e+03\n",
       "max      2.431651e+06\n",
       "Name: tripduration, dtype: float64"
      ]
     },
     "execution_count": 4,
     "metadata": {},
     "output_type": "execute_result"
    }
   ],
   "source": [
    "df.tripduration.describe()"
   ]
  },
  {
   "cell_type": "markdown",
   "id": "c5890c39",
   "metadata": {
    "id": "1sxf7K333hE2",
    "papermill": {
     "duration": 0.009949,
     "end_time": "2022-05-28T21:31:21.716588",
     "exception": false,
     "start_time": "2022-05-28T21:31:21.706639",
     "status": "completed"
    },
    "tags": []
   },
   "source": [
    "## 2.B. Longest Trips in Hours - Bar Plot\n",
    "<a id=\"4\"></a>"
   ]
  },
  {
   "cell_type": "code",
   "execution_count": 5,
   "id": "5e497acc",
   "metadata": {
    "execution": {
     "iopub.execute_input": "2022-05-28T21:31:21.738284Z",
     "iopub.status.busy": "2022-05-28T21:31:21.737857Z",
     "iopub.status.idle": "2022-05-28T21:31:22.370798Z",
     "shell.execute_reply": "2022-05-28T21:31:22.368645Z"
    },
    "id": "h7oZF4PGhvbc",
    "outputId": "a6042a97-3c3e-42bf-e23b-330abaf1757e",
    "papermill": {
     "duration": 0.646814,
     "end_time": "2022-05-28T21:31:22.373491",
     "exception": false,
     "start_time": "2022-05-28T21:31:21.726677",
     "status": "completed"
    },
    "tags": []
   },
   "outputs": [
    {
     "data": {
      "text/plain": [
       "[Text(0.5, 0, 'Index in Data Set'), Text(0, 0.5, 'Trip Duration in Hours')]"
      ]
     },
     "execution_count": 5,
     "metadata": {},
     "output_type": "execute_result"
    },
    {
     "data": {
      "image/png": "[encoded data removed]",
      "text/plain": [
       "<Figure size 1440x432 with 1 Axes>"
      ]
     },
     "metadata": {},
     "output_type": "display_data"
    }
   ],
   "source": [
    "ten_highest = df.tripduration.sort_values(ascending = False)[:10]\n",
    "ten_highest = ten_highest/3600 # in Hours\n",
    "plt.style.use('fivethirtyeight')\n",
    "plt.rcParams['figure.figsize'] = (20, 6)\n",
    "highesttrip = sns.barplot(x = ten_highest.index , y =  ten_highest,order = ten_highest.index)\n",
    "highesttrip.set_title('20 Longest Trips in the Data in Hours')\n",
    "highesttrip.set(xlabel='Index in Data Set', ylabel='Trip Duration in Hours')"
   ]
  },
  {
   "cell_type": "markdown",
   "id": "c5db9b10",
   "metadata": {
    "id": "nSIfQ8wP31yi",
    "papermill": {
     "duration": 0.010264,
     "end_time": "2022-05-28T21:31:22.394609",
     "exception": false,
     "start_time": "2022-05-28T21:31:22.384345",
     "status": "completed"
    },
    "tags": []
   },
   "source": [
    "## 2.C. Shortest Trips in Seconds - Bar Plot\n",
    "<a id=\"5\"></a>"
   ]
  },
  {
   "cell_type": "code",
   "execution_count": 6,
   "id": "c02f3fdc",
   "metadata": {
    "execution": {
     "iopub.execute_input": "2022-05-28T21:31:22.417701Z",
     "iopub.status.busy": "2022-05-28T21:31:22.417290Z",
     "iopub.status.idle": "2022-05-28T21:31:22.993641Z",
     "shell.execute_reply": "2022-05-28T21:31:22.992842Z"
    },
    "id": "yrGmNFVi5DIl",
    "outputId": "35d6095a-cbcc-415d-f9c5-67567db87143",
    "papermill": {
     "duration": 0.590734,
     "end_time": "2022-05-28T21:31:22.995963",
     "exception": false,
     "start_time": "2022-05-28T21:31:22.405229",
     "status": "completed"
    },
    "tags": []
   },
   "outputs": [
    {
     "data": {
      "text/plain": [
       "[Text(0.5, 0, 'Index in Data Set'), Text(0, 0.5, 'Trip Duration in Seconds')]"
      ]
     },
     "execution_count": 6,
     "metadata": {},
     "output_type": "execute_result"
    },
    {
     "data": {
      "image/png": "[encoded data removed]",
      "text/plain": [
       "<Figure size 1440x432 with 1 Axes>"
      ]
     },
     "metadata": {},
     "output_type": "display_data"
    }
   ],
   "source": [
    "ten_lowest = df.tripduration.sort_values()[:10]\n",
    "plt.style.use('fivethirtyeight')\n",
    "plt.rcParams['figure.figsize'] = (20, 6)\n",
    "lowesttrip = sns.barplot(x = ten_lowest.index , y =  ten_lowest,order = ten_lowest.index)\n",
    "lowesttrip.set_title('20 Shortest Trips in the Data in Seconds')\n",
    "lowesttrip.set(xlabel='Index in Data Set', ylabel='Trip Duration in Seconds')"
   ]
  },
  {
   "cell_type": "markdown",
   "id": "95dae7a9",
   "metadata": {
    "id": "VF7Z3HN25hB9",
    "papermill": {
     "duration": 0.011785,
     "end_time": "2022-05-28T21:31:23.019505",
     "exception": false,
     "start_time": "2022-05-28T21:31:23.007720",
     "status": "completed"
    },
    "tags": []
   },
   "source": [
    "# Biggest distance between start point and end point (Aerial Line) in meters."
   ]
  },
  {
   "cell_type": "code",
   "execution_count": 7,
   "id": "2372c264",
   "metadata": {
    "execution": {
     "iopub.execute_input": "2022-05-28T21:31:23.044759Z",
     "iopub.status.busy": "2022-05-28T21:31:23.044338Z",
     "iopub.status.idle": "2022-05-28T21:31:23.681632Z",
     "shell.execute_reply": "2022-05-28T21:31:23.680620Z"
    },
    "id": "yxQw0HEA5kG5",
    "outputId": "eb346a6c-e3f9-4f3c-f111-763f59e299a2",
    "papermill": {
     "duration": 0.652546,
     "end_time": "2022-05-28T21:31:23.683883",
     "exception": false,
     "start_time": "2022-05-28T21:31:23.031337",
     "status": "completed"
    },
    "tags": []
   },
   "outputs": [
    {
     "data": {
      "text/plain": [
       "1271245    16969.870980\n",
       "713622     16853.385155\n",
       "1573316    16550.867755\n",
       "1647960    16550.867755\n",
       "1129920    16550.867755\n",
       "1843055    16502.725807\n",
       "1836347    16482.355349\n",
       "82678      16013.262085\n",
       "777814     15496.562303\n",
       "52883      15059.233098\n",
       "1038230    14644.632852\n",
       "71609      14557.425209\n",
       "71562      14557.425209\n",
       "1684765    14487.174543\n",
       "1714719    14451.665127\n",
       "829670     14379.733380\n",
       "829660     14379.733380\n",
       "519352     14359.293349\n",
       "1789107    14355.911226\n",
       "391014     14254.765198\n",
       "dtype: float64"
      ]
     },
     "execution_count": 7,
     "metadata": {},
     "output_type": "execute_result"
    }
   ],
   "source": [
    "highest_distance = distance(df['start station latitude'],df['start station longitude'],df['end station latitude'],df['end station longitude']).sort_values(ascending = False)[:20]\n",
    "highest_distance"
   ]
  },
  {
   "cell_type": "markdown",
   "id": "15715045",
   "metadata": {
    "id": "H_1Fau4B2BFs",
    "papermill": {
     "duration": 0.011846,
     "end_time": "2022-05-28T21:31:23.707660",
     "exception": false,
     "start_time": "2022-05-28T21:31:23.695814",
     "status": "completed"
    },
    "tags": []
   },
   "source": [
    "# 3. User type Data\n",
    "<a id=\"6\"></a>"
   ]
  },
  {
   "cell_type": "markdown",
   "id": "13824839",
   "metadata": {
    "id": "xscGREgB2L1r",
    "papermill": {
     "duration": 0.011494,
     "end_time": "2022-05-28T21:31:23.730999",
     "exception": false,
     "start_time": "2022-05-28T21:31:23.719505",
     "status": "completed"
    },
    "tags": []
   },
   "source": [
    "## 3.A. Describe\n",
    "<a id=\"7\"></a>"
   ]
  },
  {
   "cell_type": "code",
   "execution_count": 8,
   "id": "698f054e",
   "metadata": {
    "execution": {
     "iopub.execute_input": "2022-05-28T21:31:23.756405Z",
     "iopub.status.busy": "2022-05-28T21:31:23.755881Z",
     "iopub.status.idle": "2022-05-28T21:31:24.288792Z",
     "shell.execute_reply": "2022-05-28T21:31:24.287794Z"
    },
    "id": "WXtIzzla2Egk",
    "outputId": "7b4615cb-fb2e-41e4-a184-afcc6b59b332",
    "papermill": {
     "duration": 0.548416,
     "end_time": "2022-05-28T21:31:24.291145",
     "exception": false,
     "start_time": "2022-05-28T21:31:23.742729",
     "status": "completed"
    },
    "tags": []
   },
   "outputs": [
    {
     "data": {
      "text/plain": [
       "count        1877884\n",
       "unique             2\n",
       "top       Subscriber\n",
       "freq         1616731\n",
       "Name: usertype, dtype: object"
      ]
     },
     "execution_count": 8,
     "metadata": {},
     "output_type": "execute_result"
    }
   ],
   "source": [
    "df['usertype'].describe()"
   ]
  },
  {
   "cell_type": "markdown",
   "id": "5372b8c1",
   "metadata": {
    "id": "9ZXMGWw75gLy",
    "papermill": {
     "duration": 0.011851,
     "end_time": "2022-05-28T21:31:24.315118",
     "exception": false,
     "start_time": "2022-05-28T21:31:24.303267",
     "status": "completed"
    },
    "tags": []
   },
   "source": [
    "## 3.B. User Type - Pie Chart\n",
    "<a id=\"8\"></a>"
   ]
  },
  {
   "cell_type": "code",
   "execution_count": 9,
   "id": "ec3f78b5",
   "metadata": {
    "execution": {
     "iopub.execute_input": "2022-05-28T21:31:24.340864Z",
     "iopub.status.busy": "2022-05-28T21:31:24.340241Z",
     "iopub.status.idle": "2022-05-28T21:31:25.294662Z",
     "shell.execute_reply": "2022-05-28T21:31:25.293524Z"
    },
    "id": "gQLJYKVg5fQ8",
    "outputId": "248a0eb3-7d49-4b4c-cedf-72be851d35e2",
    "papermill": {
     "duration": 0.971163,
     "end_time": "2022-05-28T21:31:25.297975",
     "exception": false,
     "start_time": "2022-05-28T21:31:24.326812",
     "status": "completed"
    },
    "tags": []
   },
   "outputs": [
    {
     "data": {
      "text/plain": [
       "Text(0.5, 1.0, 'User Type Pie Chart')"
      ]
     },
     "execution_count": 9,
     "metadata": {},
     "output_type": "execute_result"
    },
    {
     "data": {
      "image/png": "[encoded data removed]",
      "text/plain": [
       "<Figure size 1440x432 with 1 Axes>"
      ]
     },
     "metadata": {},
     "output_type": "display_data"
    }
   ],
   "source": [
    "user_type_labels = df['usertype'].unique()\n",
    "user_type_labels.sort()\n",
    "\n",
    "total_usertype_entries = df.groupby(\"usertype\").usertype.count()\n",
    "\n",
    "data = [total_usertype_entries[0], total_usertype_entries[1]]\n",
    "\n",
    "colors = sns.color_palette('muted')\n",
    "patches, texts, autotexts = plt.pie(data, labels=user_type_labels, autopct=lambda n: '{:.2f}%  ({:.0f})'.format(n,n * sum(data)/100),explode=[0,0.1],colors=colors)\n",
    "for label in autotexts:\n",
    "  label.set_fontsize(10)\n",
    "for label in texts:\n",
    "  label.set_fontsize(15)  \n",
    "plt.title('User Type Pie Chart')"
   ]
  },
  {
   "cell_type": "markdown",
   "id": "7a84f2b8",
   "metadata": {
    "id": "lGuCYt0Cpe-d",
    "papermill": {
     "duration": 0.039221,
     "end_time": "2022-05-28T21:31:25.362450",
     "exception": false,
     "start_time": "2022-05-28T21:31:25.323229",
     "status": "completed"
    },
    "tags": []
   },
   "source": [
    "# 4. Gender Data\n",
    "<a id=\"9\"></a>"
   ]
  },
  {
   "cell_type": "markdown",
   "id": "9419afc9",
   "metadata": {
    "id": "Ad0qUbVOpl6G",
    "papermill": {
     "duration": 0.013805,
     "end_time": "2022-05-28T21:31:25.390676",
     "exception": false,
     "start_time": "2022-05-28T21:31:25.376871",
     "status": "completed"
    },
    "tags": []
   },
   "source": [
    "## 4.A. Gender - Describe\n",
    "<a id=\"10\"></a>\n",
    "0 - Unknown, 1 - Male, 2 - Female"
   ]
  },
  {
   "cell_type": "code",
   "execution_count": 10,
   "id": "90f09094",
   "metadata": {
    "execution": {
     "iopub.execute_input": "2022-05-28T21:31:25.420757Z",
     "iopub.status.busy": "2022-05-28T21:31:25.420378Z",
     "iopub.status.idle": "2022-05-28T21:31:28.566051Z",
     "shell.execute_reply": "2022-05-28T21:31:28.562552Z"
    },
    "id": "rc4X2qlzpwlH",
    "outputId": "745c1596-eb14-47b0-acfa-59cb6659007a",
    "papermill": {
     "duration": 3.169051,
     "end_time": "2022-05-28T21:31:28.574095",
     "exception": false,
     "start_time": "2022-05-28T21:31:25.405044",
     "status": "completed"
    },
    "tags": []
   },
   "outputs": [
    {
     "data": {
      "text/plain": [
       "count     1877884\n",
       "unique          3\n",
       "top             1\n",
       "freq      1240964\n",
       "Name: gender, dtype: object"
      ]
     },
     "execution_count": 10,
     "metadata": {},
     "output_type": "execute_result"
    }
   ],
   "source": [
    "df.gender.astype('str').describe()"
   ]
  },
  {
   "cell_type": "markdown",
   "id": "61724228",
   "metadata": {
    "papermill": {
     "duration": 0.039588,
     "end_time": "2022-05-28T21:31:28.649571",
     "exception": false,
     "start_time": "2022-05-28T21:31:28.609983",
     "status": "completed"
    },
    "tags": []
   },
   "source": [
    "## 4.B. Gender - Pie Chart\n",
    "<a id=\"11\"></a>"
   ]
  },
  {
   "cell_type": "code",
   "execution_count": 11,
   "id": "6d2b3d23",
   "metadata": {
    "execution": {
     "iopub.execute_input": "2022-05-28T21:31:28.729930Z",
     "iopub.status.busy": "2022-05-28T21:31:28.727290Z",
     "iopub.status.idle": "2022-05-28T21:31:28.931009Z",
     "shell.execute_reply": "2022-05-28T21:31:28.929699Z"
    },
    "papermill": {
     "duration": 0.247618,
     "end_time": "2022-05-28T21:31:28.933704",
     "exception": false,
     "start_time": "2022-05-28T21:31:28.686086",
     "status": "completed"
    },
    "tags": []
   },
   "outputs": [
    {
     "data": {
      "text/plain": [
       "Text(0.5, 1.0, 'Gender Pie Chart')"
      ]
     },
     "execution_count": 11,
     "metadata": {},
     "output_type": "execute_result"
    },
    {
     "data": {
      "image/png": "[encoded data removed]",
      "text/plain": [
       "<Figure size 1440x432 with 1 Axes>"
      ]
     },
     "metadata": {},
     "output_type": "display_data"
    }
   ],
   "source": [
    "gender_labels = df['gender'].unique()\n",
    "gender_labels.sort()\n",
    "gender_dict = {0: \"Unknown\", 1: \"Male\", 2: \"Female\"}\n",
    "gender_labels = [gender_dict[zi] for zi in gender_labels]\n",
    "\n",
    "total_gender_entries = df.groupby(\"gender\").gender.count()\n",
    "\n",
    "data = [total_gender_entries[0], total_gender_entries[1],total_gender_entries[2]]\n",
    "\n",
    "colors = sns.color_palette('muted')\n",
    "patches, texts, autotexts = plt.pie(data, labels=gender_labels, autopct=lambda n: '{:.2f}%  ({:.0f})'.format(n,n * sum(data)/100),explode=[0.1,0.1,0.1],colors=colors)\n",
    "for label in autotexts:\n",
    "  label.set_fontsize(10)\n",
    "for label in texts:\n",
    "  label.set_fontsize(15)  \n",
    "plt.title('Gender Pie Chart')"
   ]
  },
  {
   "cell_type": "markdown",
   "id": "1db3cddd",
   "metadata": {
    "papermill": {
     "duration": 0.024328,
     "end_time": "2022-05-28T21:31:28.982311",
     "exception": false,
     "start_time": "2022-05-28T21:31:28.957983",
     "status": "completed"
    },
    "tags": []
   },
   "source": [
    "# 5. Bike ID\n",
    "<a id=\"12\"></a>"
   ]
  },
  {
   "cell_type": "markdown",
   "id": "4a793bf8",
   "metadata": {
    "papermill": {
     "duration": 0.013018,
     "end_time": "2022-05-28T21:31:29.015827",
     "exception": false,
     "start_time": "2022-05-28T21:31:29.002809",
     "status": "completed"
    },
    "tags": []
   },
   "source": [
    "## 5.A. The most used bike\n",
    "<a id=\"13\"></a>"
   ]
  },
  {
   "cell_type": "code",
   "execution_count": 12,
   "id": "b2aff090",
   "metadata": {
    "execution": {
     "iopub.execute_input": "2022-05-28T21:31:29.044234Z",
     "iopub.status.busy": "2022-05-28T21:31:29.043758Z",
     "iopub.status.idle": "2022-05-28T21:31:29.092639Z",
     "shell.execute_reply": "2022-05-28T21:31:29.090742Z"
    },
    "papermill": {
     "duration": 0.06692,
     "end_time": "2022-05-28T21:31:29.095917",
     "exception": false,
     "start_time": "2022-05-28T21:31:29.028997",
     "status": "completed"
    },
    "tags": []
   },
   "outputs": [
    {
     "name": "stdout",
     "output_type": "stream",
     "text": [
      "The most used bike ID is: 33875\n"
     ]
    }
   ],
   "source": [
    "used = df.groupby('bikeid').bikeid.count().idxmax()\n",
    "print(f'The most used bike ID is: {used}')"
   ]
  },
  {
   "cell_type": "markdown",
   "id": "f8a1a5c4",
   "metadata": {
    "papermill": {
     "duration": 0.01306,
     "end_time": "2022-05-28T21:31:29.123049",
     "exception": false,
     "start_time": "2022-05-28T21:31:29.109989",
     "status": "completed"
    },
    "tags": []
   },
   "source": [
    "# 6. Stations\n",
    "<a id=\"14\"></a>"
   ]
  },
  {
   "cell_type": "markdown",
   "id": "a5600c4c",
   "metadata": {
    "papermill": {
     "duration": 0.013028,
     "end_time": "2022-05-28T21:31:29.149494",
     "exception": false,
     "start_time": "2022-05-28T21:31:29.136466",
     "status": "completed"
    },
    "tags": []
   },
   "source": [
    "## 6.A. Longest Trip start and stop stations\n",
    "<a id=\"15\"></a>"
   ]
  },
  {
   "cell_type": "code",
   "execution_count": 13,
   "id": "ff470888",
   "metadata": {
    "execution": {
     "iopub.execute_input": "2022-05-28T21:31:29.178343Z",
     "iopub.status.busy": "2022-05-28T21:31:29.177946Z",
     "iopub.status.idle": "2022-05-28T21:31:29.187662Z",
     "shell.execute_reply": "2022-05-28T21:31:29.185858Z"
    },
    "papermill": {
     "duration": 0.027328,
     "end_time": "2022-05-28T21:31:29.190265",
     "exception": false,
     "start_time": "2022-05-28T21:31:29.162937",
     "status": "completed"
    },
    "tags": []
   },
   "outputs": [
    {
     "name": "stdout",
     "output_type": "stream",
     "text": [
      "The longest trip started at Adam Clayton Powell Blvd & W 126 St and ended at Broadway & Battery Pl\n"
     ]
    }
   ],
   "source": [
    "longest_trip_index = df.tripduration.idxmax()\n",
    "starting_city = df['start station name'][longest_trip_index]\n",
    "ending_city = df['end station name'][longest_trip_index]\n",
    "print(f'The longest trip started at {starting_city} and ended at {ending_city}')"
   ]
  },
  {
   "cell_type": "markdown",
   "id": "b04a9537",
   "metadata": {
    "papermill": {
     "duration": 0.01356,
     "end_time": "2022-05-28T21:31:29.217087",
     "exception": false,
     "start_time": "2022-05-28T21:31:29.203527",
     "status": "completed"
    },
    "tags": []
   },
   "source": [
    "## 6.B. The station with most starts\n",
    "<a id=\"16\"></a>"
   ]
  },
  {
   "cell_type": "code",
   "execution_count": 14,
   "id": "9e8fcf26",
   "metadata": {
    "execution": {
     "iopub.execute_input": "2022-05-28T21:31:29.246424Z",
     "iopub.status.busy": "2022-05-28T21:31:29.245234Z",
     "iopub.status.idle": "2022-05-28T21:31:32.166549Z",
     "shell.execute_reply": "2022-05-28T21:31:32.165491Z"
    },
    "papermill": {
     "duration": 2.938942,
     "end_time": "2022-05-28T21:31:32.169527",
     "exception": false,
     "start_time": "2022-05-28T21:31:29.230585",
     "status": "completed"
    },
    "tags": []
   },
   "outputs": [
    {
     "name": "stdout",
     "output_type": "stream",
     "text": [
      "Pershing Square North is the most common starting station with 13968 starts\n"
     ]
    }
   ],
   "source": [
    "df.dropna()\n",
    "stations_name = df['start station name'].unique()\n",
    "total_starts = df.groupby(\"start station name\")['start station name'].count()\n",
    "print(f'{total_starts.idxmax()} is the most common starting station with {total_starts.max()} starts')"
   ]
  },
  {
   "cell_type": "markdown",
   "id": "b3204369",
   "metadata": {
    "papermill": {
     "duration": 0.016525,
     "end_time": "2022-05-28T21:31:32.204283",
     "exception": false,
     "start_time": "2022-05-28T21:31:32.187758",
     "status": "completed"
    },
    "tags": []
   },
   "source": [
    "# 7. Mixed Analytics\n",
    "<a id=\"17\"></a>"
   ]
  },
  {
   "cell_type": "markdown",
   "id": "faafe65f",
   "metadata": {
    "papermill": {
     "duration": 0.015274,
     "end_time": "2022-05-28T21:31:32.235149",
     "exception": false,
     "start_time": "2022-05-28T21:31:32.219875",
     "status": "completed"
    },
    "tags": []
   },
   "source": [
    "## 7.A. Gender slicing in User Type\n",
    "<a id=\"18\"></a>"
   ]
  },
  {
   "cell_type": "code",
   "execution_count": 15,
   "id": "9fb2f8aa",
   "metadata": {
    "execution": {
     "iopub.execute_input": "2022-05-28T21:31:32.269098Z",
     "iopub.status.busy": "2022-05-28T21:31:32.268548Z",
     "iopub.status.idle": "2022-05-28T21:31:32.918587Z",
     "shell.execute_reply": "2022-05-28T21:31:32.917571Z"
    },
    "papermill": {
     "duration": 0.670006,
     "end_time": "2022-05-28T21:31:32.920880",
     "exception": false,
     "start_time": "2022-05-28T21:31:32.250874",
     "status": "completed"
    },
    "tags": []
   },
   "outputs": [
    {
     "data": {
      "text/plain": [
       "Text(0.5, 1.0, 'User Types and their Gender')"
      ]
     },
     "execution_count": 15,
     "metadata": {},
     "output_type": "execute_result"
    },
    {
     "data": {
      "image/png": "[encoded data removed]",
      "text/plain": [
       "<Figure size 1440x432 with 1 Axes>"
      ]
     },
     "metadata": {},
     "output_type": "display_data"
    }
   ],
   "source": [
    "y = df.groupby(['usertype','gender']).gender.count()\n",
    "plt.style.use('fivethirtyeight')\n",
    "plt.rcParams['figure.figsize'] = (20, 6)\n",
    "usertype_gender = sns.barplot(x = [\"Customer - Unkown\",\"Customer - Male\",\"Customer - Female\",\"Subscriber - Unkown\",\"Subscriber - Male\",\"Subscriber - Female\"], y = y)\n",
    "for bar in usertype_gender.patches:\n",
    "        bar_value = int(bar.get_height())\n",
    "        bar_perc = round(bar_value/len(df['usertype'])*100,2)\n",
    "        text = str(bar_value)+\" | \"+str(bar_perc)+\"%\"\n",
    "        text_x = bar.get_x() + bar.get_width() / 2\n",
    "        text_y = bar.get_y() + bar_value\n",
    "        bar_color = bar.get_facecolor()\n",
    "        usertype_gender.text(text_x, text_y, text, ha='center', va='bottom', color=bar_color,size=20)\n",
    "usertype_gender.set(xlabel='User Type and their Gender', ylabel='Number of Trips')\n",
    "usertype_gender.set_title('User Types and their Gender')\n",
    "\n"
   ]
  },
  {
   "cell_type": "markdown",
   "id": "2ae99793",
   "metadata": {
    "papermill": {
     "duration": 0.01399,
     "end_time": "2022-05-28T21:31:32.949310",
     "exception": false,
     "start_time": "2022-05-28T21:31:32.935320",
     "status": "completed"
    },
    "tags": []
   },
   "source": [
    "## 7.B. The age of most renters and their gender\n",
    "<a id=\"19\"></a>"
   ]
  },
  {
   "cell_type": "code",
   "execution_count": 16,
   "id": "6df54d00",
   "metadata": {
    "execution": {
     "iopub.execute_input": "2022-05-28T21:31:32.980480Z",
     "iopub.status.busy": "2022-05-28T21:31:32.979703Z",
     "iopub.status.idle": "2022-05-28T21:31:33.149315Z",
     "shell.execute_reply": "2022-05-28T21:31:33.147422Z"
    },
    "papermill": {
     "duration": 0.191771,
     "end_time": "2022-05-28T21:31:33.155452",
     "exception": false,
     "start_time": "2022-05-28T21:31:32.963681",
     "status": "completed"
    },
    "tags": []
   },
   "outputs": [
    {
     "name": "stdout",
     "output_type": "stream",
     "text": [
      "The most bike riders are 49 years old and their gender is Unknown, there are 189582 riders with the same age.\n"
     ]
    }
   ],
   "source": [
    "birth_year_gender_sorted = df.groupby(['birth year','gender']).gender.count()\n",
    "max_indexed = birth_year_gender_sorted.idxmax()\n",
    "if max_indexed[1] == 0:\n",
    "    tg = \"Unknown\"\n",
    "if max_indexed[1] == 1:\n",
    "    tg = \"Male\"\n",
    "if max_indexed[1] == 2:\n",
    "    tg = \"Female\"\n",
    "print(f'The most bike riders are {2018 - max_indexed[0]} years old and their gender is {tg}, there are {birth_year_gender_sorted[max_indexed[0]].sum()} riders with the same age.')"
   ]
  },
  {
   "cell_type": "markdown",
   "id": "70b15e3b",
   "metadata": {
    "papermill": {
     "duration": 0.014431,
     "end_time": "2022-05-28T21:31:33.188911",
     "exception": false,
     "start_time": "2022-05-28T21:31:33.174480",
     "status": "completed"
    },
    "tags": []
   },
   "source": [
    "# Number of users and their age"
   ]
  },
  {
   "cell_type": "code",
   "execution_count": 17,
   "id": "ac863b2c",
   "metadata": {
    "execution": {
     "iopub.execute_input": "2022-05-28T21:31:33.220887Z",
     "iopub.status.busy": "2022-05-28T21:31:33.220073Z",
     "iopub.status.idle": "2022-05-28T21:31:34.264089Z",
     "shell.execute_reply": "2022-05-28T21:31:34.262730Z"
    },
    "papermill": {
     "duration": 1.069098,
     "end_time": "2022-05-28T21:31:34.272857",
     "exception": false,
     "start_time": "2022-05-28T21:31:33.203759",
     "status": "completed"
    },
    "tags": []
   },
   "outputs": [
    {
     "data": {
      "text/plain": [
       "Text(0.5, 1.0, 'Number of users and their age')"
      ]
     },
     "execution_count": 17,
     "metadata": {},
     "output_type": "execute_result"
    },
    {
     "data": {
      "image/png": "[encoded data removed]",
      "text/plain": [
       "<Figure size 1440x432 with 1 Axes>"
      ]
     },
     "metadata": {},
     "output_type": "display_data"
    }
   ],
   "source": [
    "sorted_by_year = df.groupby('birth year')['birth year'].count()[df.groupby('birth year')['birth year'].count() > 1000]\n",
    "plt.style.use('fivethirtyeight')\n",
    "plt.rcParams['figure.figsize'] = (20, 6)\n",
    "age_histo = sns.barplot(x = (2018 - sorted_by_year.index), y = sorted_by_year.iloc[:])\n",
    "age_histo.set(xlabel='Age', ylabel='Number of users')\n",
    "age_histo.set_title('Number of users and their age')"
   ]
  }
 ],
 "metadata": {
  "kernelspec": {
   "display_name": "Python 3",
   "language": "python",
   "name": "python3"
  },
  "language_info": {
   "codemirror_mode": {
    "name": "ipython",
    "version": 3
   },
   "file_extension": ".py",
   "mimetype": "text/x-python",
   "name": "python",
   "nbconvert_exporter": "python",
   "pygments_lexer": "ipython3",
   "version": "3.7.12"
  },
  "papermill": {
   "default_parameters": {},
   "duration": 36.557142,
   "end_time": "2022-05-28T21:31:35.828730",
   "environment_variables": {},
   "exception": null,
   "input_path": "__notebook__.ipynb",
   "output_path": "__notebook__.ipynb",
   "parameters": {},
   "start_time": "2022-05-28T21:30:59.271588",
   "version": "2.3.4"
  }
 },
 "nbformat": 4,
 "nbformat_minor": 5
}
